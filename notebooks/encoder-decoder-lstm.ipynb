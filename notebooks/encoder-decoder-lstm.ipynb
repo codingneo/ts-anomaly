{
 "cells": [
  {
   "cell_type": "code",
   "execution_count": 1,
   "metadata": {},
   "outputs": [
    {
     "name": "stderr",
     "output_type": "stream",
     "text": [
      "Using TensorFlow backend.\n"
     ]
    }
   ],
   "source": [
    "import numpy as np\n",
    "import pandas as pd\n",
    "from numpy import array\n",
    "from keras.models import Sequential\n",
    "from keras.layers import LSTM\n",
    "from keras.layers import Dense\n",
    "from keras.layers import RepeatVector\n",
    "from keras.layers import TimeDistributed\n",
    "\n",
    "%matplotlib inline"
   ]
  },
  {
   "cell_type": "markdown",
   "metadata": {},
   "source": [
    "## 1. Data prepartion"
   ]
  },
  {
   "cell_type": "code",
   "execution_count": 6,
   "metadata": {},
   "outputs": [],
   "source": [
    "data = pd.read_excel('../data/Testcase_dataset-IBPEM.xlsx')\n",
    "# Create timestamp from two columns\n",
    "data['timestamp'] = pd.to_datetime({\n",
    "    'year': data['Date'].str.split('-').str.get(0), \n",
    "    'month': data['Date'].str.split('-').str.get(1), \n",
    "    'day': data['Date'].str.split('-').str.get(2), \n",
    "    'hour':data['Time'].str.slice(0, 2), \n",
    "    'minute': data['Time'].str.slice(2,4)})\n",
    "\n",
    "data = data.drop(columns=['Date', 'Time'])\n",
    "data = data.set_index('timestamp')\n",
    "\n",
    "# Let's take only the CWRT_syth first\n",
    "series1 = data['CWRT_syth'].dropna()"
   ]
  },
  {
   "cell_type": "code",
   "execution_count": 7,
   "metadata": {},
   "outputs": [],
   "source": [
    "# split a univariate sequence into samples\n",
    "def split_sequence(sequence, n_steps_in, n_steps_out):\n",
    "    X, y = list(), list()\n",
    "    for i in range(len(sequence)):\n",
    "        # find the end of this pattern\n",
    "        end_ix = i + n_steps_in\n",
    "        out_end_ix = end_ix + n_steps_out\n",
    "        # check if we are beyond the sequence\n",
    "        if out_end_ix > len(sequence):\n",
    "            break\n",
    "        # gather input and output parts of the pattern\n",
    "        seq_x, seq_y = sequence[i:end_ix], sequence[end_ix:out_end_ix]\n",
    "        X.append(seq_x)\n",
    "        y.append(seq_y)\n",
    "    return array(X), array(y)"
   ]
  },
  {
   "cell_type": "code",
   "execution_count": 8,
   "metadata": {},
   "outputs": [],
   "source": [
    "# split a univariate sequence into samples\n",
    "def split_sequence(sequence, n_steps_in, n_steps_out):\n",
    "    X, y = list(), list()\n",
    "    for i in range(len(sequence)):\n",
    "        # find the end of this pattern\n",
    "        end_ix = i + n_steps_in\n",
    "        out_end_ix = end_ix + n_steps_out\n",
    "        # check if we are beyond the sequence\n",
    "        if out_end_ix > len(sequence):\n",
    "            break\n",
    "        # gather input and output parts of the pattern\n",
    "        seq_x, seq_y = sequence[i:end_ix], sequence[end_ix:out_end_ix]\n",
    "        X.append(seq_x)\n",
    "        y.append(seq_y)\n",
    "    return array(X), array(y)"
   ]
  },
  {
   "cell_type": "code",
   "execution_count": 9,
   "metadata": {},
   "outputs": [],
   "source": [
    "# define input sequence\n",
    "raw_seq = series1.to_list()\n",
    "# choose a number of time steps\n",
    "n_steps_in, n_steps_out = 12, 6\n",
    "# split into samples\n",
    "X, y = split_sequence(raw_seq, n_steps_in, n_steps_out)\n",
    "# reshape from [samples, timesteps] into [samples, timesteps, features]\n",
    "n_features = 1\n",
    "X = X.reshape((X.shape[0], X.shape[1], n_features))\n",
    "y = y.reshape((y.shape[0], y.shape[1], n_features))"
   ]
  },
  {
   "cell_type": "markdown",
   "metadata": {},
   "source": [
    "## 2 Encoder-decoder Modeling"
   ]
  },
  {
   "cell_type": "code",
   "execution_count": 11,
   "metadata": {},
   "outputs": [
    {
     "name": "stdout",
     "output_type": "stream",
     "text": [
      "WARNING:tensorflow:From /Users/yiqun/anaconda3/lib/python3.7/site-packages/tensorflow/python/framework/op_def_library.py:263: colocate_with (from tensorflow.python.framework.ops) is deprecated and will be removed in a future version.\n",
      "Instructions for updating:\n",
      "Colocations handled automatically by placer.\n"
     ]
    }
   ],
   "source": [
    "# define model\n",
    "encoder_decoder_model = Sequential()\n",
    "encoder_decoder_model.add(LSTM(100, activation='relu', input_shape=(n_steps_in, n_features)))\n",
    "encoder_decoder_model.add(RepeatVector(n_steps_out))\n",
    "encoder_decoder_model.add(LSTM(100, activation='relu', return_sequences=True))\n",
    "encoder_decoder_model.add(TimeDistributed(Dense(1)))\n",
    "encoder_decoder_model.compile(optimizer='adam', loss='mse')"
   ]
  },
  {
   "cell_type": "code",
   "execution_count": 12,
   "metadata": {},
   "outputs": [
    {
     "name": "stdout",
     "output_type": "stream",
     "text": [
      "WARNING:tensorflow:From /Users/yiqun/anaconda3/lib/python3.7/site-packages/tensorflow/python/ops/math_ops.py:3066: to_int32 (from tensorflow.python.ops.math_ops) is deprecated and will be removed in a future version.\n",
      "Instructions for updating:\n",
      "Use tf.cast instead.\n",
      "Epoch 1/20\n",
      "17598/17598 [==============================] - 15s 842us/step - loss: 12.4707\n",
      "Epoch 2/20\n",
      "17598/17598 [==============================] - 13s 725us/step - loss: 2.5758\n",
      "Epoch 3/20\n",
      "17598/17598 [==============================] - 13s 764us/step - loss: 2.2277\n",
      "Epoch 4/20\n",
      "17598/17598 [==============================] - 12s 679us/step - loss: 2.1392\n",
      "Epoch 5/20\n",
      "17598/17598 [==============================] - 12s 698us/step - loss: 2.3791\n",
      "Epoch 6/20\n",
      "17598/17598 [==============================] - 12s 709us/step - loss: 1.9897\n",
      "Epoch 7/20\n",
      "17598/17598 [==============================] - 12s 690us/step - loss: 1.9176\n",
      "Epoch 8/20\n",
      "17598/17598 [==============================] - 12s 706us/step - loss: 1.8569\n",
      "Epoch 9/20\n",
      "17598/17598 [==============================] - 12s 707us/step - loss: 1.8100\n",
      "Epoch 10/20\n",
      "17598/17598 [==============================] - 12s 695us/step - loss: 1.8017\n",
      "Epoch 11/20\n",
      "17598/17598 [==============================] - 12s 703us/step - loss: 1.8765\n",
      "Epoch 12/20\n",
      "17598/17598 [==============================] - 13s 718us/step - loss: 1.8111\n",
      "Epoch 13/20\n",
      "17598/17598 [==============================] - 13s 719us/step - loss: 1.8672\n",
      "Epoch 14/20\n",
      "17598/17598 [==============================] - 12s 706us/step - loss: 1.9126\n",
      "Epoch 15/20\n",
      "17598/17598 [==============================] - 12s 684us/step - loss: 1.7623\n",
      "Epoch 16/20\n",
      "17598/17598 [==============================] - 3324s 189ms/step - loss: 1.8020\n",
      "Epoch 17/20\n",
      "17598/17598 [==============================] - 16s 913us/step - loss: 1.8186\n",
      "Epoch 18/20\n",
      "17598/17598 [==============================] - 14s 771us/step - loss: 1.7496\n",
      "Epoch 19/20\n",
      "17598/17598 [==============================] - 13s 737us/step - loss: 1.7576\n",
      "Epoch 20/20\n",
      "17598/17598 [==============================] - 13s 734us/step - loss: 1.8135\n"
     ]
    },
    {
     "data": {
      "text/plain": [
       "<keras.callbacks.History at 0xb2c1b3c88>"
      ]
     },
     "execution_count": 12,
     "metadata": {},
     "output_type": "execute_result"
    }
   ],
   "source": [
    "# fit model\n",
    "encoder_decoder_model.fit(X, y, epochs=20, verbose=1)"
   ]
  },
  {
   "cell_type": "markdown",
   "metadata": {},
   "source": [
    "## 3. Compute anomaly scores"
   ]
  },
  {
   "cell_type": "code",
   "execution_count": 14,
   "metadata": {},
   "outputs": [],
   "source": [
    "def anomaly_scores(model, X, y):\n",
    "    anomaly_scores = list()\n",
    "    for i in range(len(X)):\n",
    "        yhat = model.predict(X[i].reshape(1,n_steps_in,n_features))\n",
    "        score = np.sum(abs(yhat[0]-y[i]))\n",
    "        \n",
    "        anomaly_scores.append(score)\n",
    "        \n",
    "    return anomaly_scores\n",
    "\n",
    "scores = anomaly_scores(encoder_decoder_model, X, y)"
   ]
  },
  {
   "cell_type": "code",
   "execution_count": 15,
   "metadata": {},
   "outputs": [],
   "source": [
    "padding_scores = [0.0 for i in range(n_steps_in)] + scores + [0.0 for i in range(n_steps_out-1)]\n",
    "result = pd.DataFrame({'value': raw_seq, 'score': padding_scores})"
   ]
  },
  {
   "cell_type": "code",
   "execution_count": 16,
   "metadata": {},
   "outputs": [
    {
     "data": {
      "text/plain": [
       "array([<matplotlib.axes._subplots.AxesSubplot object at 0xb2e648f98>,\n",
       "       <matplotlib.axes._subplots.AxesSubplot object at 0xb2ec1c3c8>],\n",
       "      dtype=object)"
      ]
     },
     "execution_count": 16,
     "metadata": {},
     "output_type": "execute_result"
    },
    {
     "data": {
      "image/png": "[encoded data removed]",
      "text/plain": [
       "<Figure size 1440x432 with 2 Axes>"
      ]
     },
     "metadata": {
      "needs_background": "light"
     },
     "output_type": "display_data"
    }
   ],
   "source": [
    "result.plot(figsize=[20,6], subplots=True)"
   ]
  },
  {
   "cell_type": "code",
   "execution_count": null,
   "metadata": {},
   "outputs": [],
   "source": []
  }
 ],
 "metadata": {
  "kernelspec": {
   "display_name": "Python 3",
   "language": "python",
   "name": "python3"
  },
  "language_info": {
   "codemirror_mode": {
    "name": "ipython",
    "version": 3
   },
   "file_extension": ".py",
   "mimetype": "text/x-python",
   "name": "python",
   "nbconvert_exporter": "python",
   "pygments_lexer": "ipython3",
   "version": "3.7.0"
  }
 },
 "nbformat": 4,
 "nbformat_minor": 2
}
