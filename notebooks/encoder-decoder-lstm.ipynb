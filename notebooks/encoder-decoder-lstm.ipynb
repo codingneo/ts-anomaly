{
 "cells": [
  {
   "cell_type": "code",
   "execution_count": 268,
   "metadata": {},
   "outputs": [],
   "source": [
    "import numpy as np\n",
    "import pandas as pd\n",
    "from numpy import array\n",
    "from keras.models import Sequential\n",
    "from keras.layers import LSTM\n",
    "from keras.layers import Dense\n",
    "from keras.layers import RepeatVector\n",
    "from keras.layers import TimeDistributed\n",
    "\n",
    "%matplotlib inline"
   ]
  },
  {
   "cell_type": "markdown",
   "metadata": {},
   "source": [
    "## 1. Data prepartion"
   ]
  },
  {
   "cell_type": "code",
   "execution_count": 269,
   "metadata": {},
   "outputs": [],
   "source": [
    "data = pd.read_excel('../data/Testcase_dataset-IBPEM.xlsx')\n",
    "# Create timestamp from two columns\n",
    "data['timestamp'] = pd.to_datetime({\n",
    "    'year': data['Date'].str.split('-').str.get(0), \n",
    "    'month': data['Date'].str.split('-').str.get(1), \n",
    "    'day': data['Date'].str.split('-').str.get(2), \n",
    "    'hour':data['Time'].str.slice(0, 2), \n",
    "    'minute': data['Time'].str.slice(2,4)})\n",
    "\n",
    "data = data.drop(columns=['Date', 'Time'])\n",
    "data = data.set_index('timestamp')\n",
    "\n",
    "# Let's take only the CWRT_syth first\n",
    "series1 = data['CWRT_syth'].dropna()"
   ]
  },
  {
   "cell_type": "markdown",
   "metadata": {},
   "source": [
    "### Impute the data"
   ]
  },
  {
   "cell_type": "code",
   "execution_count": 270,
   "metadata": {},
   "outputs": [],
   "source": [
    "series1 = series1.drop(index=series1['2019-01-21'].index)\n",
    "series1 = series1.drop(index=series1['2019-01-23'].index)\n",
    "series1 = series1.drop(index=series1['2019-02-17'].index)\n",
    "series1 = series1.drop(index=series1['2019-03-06'].index)\n",
    "series1 = series1.drop(index=series1['2019-03-10'].index)"
   ]
  },
  {
   "cell_type": "code",
   "execution_count": 244,
   "metadata": {},
   "outputs": [
    {
     "ename": "SyntaxError",
     "evalue": "invalid syntax (<ipython-input-244-ec92dd5fbf93>, line 1)",
     "output_type": "error",
     "traceback": [
      "\u001b[0;36m  File \u001b[0;32m\"<ipython-input-244-ec92dd5fbf93>\"\u001b[0;36m, line \u001b[0;32m1\u001b[0m\n\u001b[0;31m    [datetime.date(2019, 1, 14) datetime.date(2019, 1, 15)\u001b[0m\n\u001b[0m                                       ^\u001b[0m\n\u001b[0;31mSyntaxError\u001b[0m\u001b[0;31m:\u001b[0m invalid syntax\n"
     ]
    }
   ],
   "source": [
    "[datetime.date(2019, 1, 14) datetime.date(2019, 1, 15)\n",
    " datetime.date(2019, 1, 16) datetime.date(2019, 1, 17)\n",
    " datetime.date(2019, 1, 18) datetime.date(2019, 1, 31)\n",
    " datetime.date(2019, 2, 19) datetime.date(2019, 2, 26)\n",
    " datetime.date(2019, 2, 27) datetime.date(2019, 3, 1)\n",
    " datetime.date(2019, 3, 8)]"
   ]
  },
  {
   "cell_type": "code",
   "execution_count": 271,
   "metadata": {},
   "outputs": [],
   "source": [
    "import datetime\n",
    "sequences = series1[\n",
    "    (series1.index.date==datetime.date(2019, 1, 14)) | \n",
    "    (series1.index.date==datetime.date(2019, 1, 15)) | \n",
    "    (series1.index.date==datetime.date(2019, 1, 16)) | \n",
    "    (series1.index.date==datetime.date(2019, 1, 17)) | \n",
    "    (series1.index.date==datetime.date(2019, 1, 18)) | \n",
    "    (series1.index.date==datetime.date(2019, 1, 31)) | \n",
    "    (series1.index.date==datetime.date(2019, 2, 19)) | \n",
    "    (series1.index.date==datetime.date(2019, 2, 26)) | \n",
    "    (series1.index.date==datetime.date(2019, 2, 27)) | \n",
    "    (series1.index.date==datetime.date(2019, 3, 1)) | \n",
    "    (series1.index.date==datetime.date(2019, 3, 8))]"
   ]
  },
  {
   "cell_type": "code",
   "execution_count": 272,
   "metadata": {},
   "outputs": [],
   "source": [
    "# split a univariate sequence into samples\n",
    "def split_sequence(sequence, n_steps):\n",
    "    X, y = list(), list()\n",
    "    for i in range(len(sequence)):\n",
    "        # find the end of this pattern\n",
    "        end_ix = i + n_steps\n",
    "        # check if we are beyond the sequence\n",
    "        if end_ix > len(sequence):\n",
    "            break\n",
    "        # gather input and output parts of the pattern\n",
    "        seq_x, seq_y = sequence[i:end_ix], sequence[i:end_ix]\n",
    "        X.append(seq_x)\n",
    "        y.append(seq_y)\n",
    "    return array(X), array(y)"
   ]
  },
  {
   "cell_type": "code",
   "execution_count": 35,
   "metadata": {},
   "outputs": [],
   "source": [
    "# split a univariate sequence into samples\n",
    "def split_sequence(sequence, n_steps_in, n_steps_out):\n",
    "    X, y = list(), list()\n",
    "    for i in range(len(sequence)):\n",
    "        # find the end of this pattern\n",
    "        end_ix = i + n_steps_in\n",
    "        out_end_ix = end_ix + n_steps_out\n",
    "        # check if we are beyond the sequence\n",
    "        if out_end_ix > len(sequence):\n",
    "            break\n",
    "        # gather input and output parts of the pattern\n",
    "        seq_x, seq_y = sequence[i:end_ix], sequence[end_ix:out_end_ix]\n",
    "        X.append(seq_x)\n",
    "        y.append(seq_y)\n",
    "    return array(X), array(y)"
   ]
  },
  {
   "cell_type": "code",
   "execution_count": 273,
   "metadata": {},
   "outputs": [
    {
     "name": "stdout",
     "output_type": "stream",
     "text": [
      "(3157, 12)\n"
     ]
    }
   ],
   "source": [
    "# define input sequence\n",
    "raw_seq = sequences.to_list()\n",
    "# choose a number of time steps\n",
    "n_steps_in, n_steps_out = 12, 12*24\n",
    "# split into samples\n",
    "# X, y = split_sequence(raw_seq, n_steps_in, n_steps_out)\n",
    "X, y = split_sequence(raw_seq, n_steps_in)\n",
    "print(y.shape)\n",
    "# reshape from [samples, timesteps] into [samples, timesteps, features]\n",
    "n_features = 1\n",
    "X = X.reshape((X.shape[0], X.shape[1], n_features))\n",
    "y = y.reshape((y.shape[0], y.shape[1], n_features))"
   ]
  },
  {
   "cell_type": "markdown",
   "metadata": {},
   "source": [
    "## 2 Encoder-decoder Modeling"
   ]
  },
  {
   "cell_type": "code",
   "execution_count": 286,
   "metadata": {},
   "outputs": [],
   "source": [
    "# define model\n",
    "encoder_decoder_model = Sequential()\n",
    "encoder_decoder_model.add(LSTM(200, activation='relu', input_shape=(n_steps_in, n_features)))\n",
    "encoder_decoder_model.add(RepeatVector(n_steps_in))\n",
    "encoder_decoder_model.add(LSTM(400, activation='relu', return_sequences=True))\n",
    "encoder_decoder_model.add(TimeDistributed(Dense(1)))\n",
    "encoder_decoder_model.compile(optimizer='adam', loss='mean_squared_error')"
   ]
  },
  {
   "cell_type": "code",
   "execution_count": 287,
   "metadata": {},
   "outputs": [
    {
     "name": "stdout",
     "output_type": "stream",
     "text": [
      "Epoch 1/10\n",
      "3157/3157 [==============================] - 22s 7ms/step - loss: 49.2344\n",
      "Epoch 2/10\n",
      "3157/3157 [==============================] - 15s 5ms/step - loss: 0.2685\n",
      "Epoch 3/10\n",
      "3157/3157 [==============================] - 15s 5ms/step - loss: 0.2060\n",
      "Epoch 4/10\n",
      "3157/3157 [==============================] - 15s 5ms/step - loss: 0.2181\n",
      "Epoch 5/10\n",
      "3157/3157 [==============================] - 15s 5ms/step - loss: 0.1413\n",
      "Epoch 6/10\n",
      "3157/3157 [==============================] - 15s 5ms/step - loss: 0.2074\n",
      "Epoch 7/10\n",
      "3157/3157 [==============================] - 16s 5ms/step - loss: 0.1548\n",
      "Epoch 8/10\n",
      "3157/3157 [==============================] - 13s 4ms/step - loss: 0.1157\n",
      "Epoch 9/10\n",
      "3157/3157 [==============================] - 16s 5ms/step - loss: 0.2087\n",
      "Epoch 10/10\n",
      "3157/3157 [==============================] - 14s 4ms/step - loss: 0.1243\n"
     ]
    },
    {
     "data": {
      "text/plain": [
       "<keras.callbacks.History at 0x162137470>"
      ]
     },
     "execution_count": 287,
     "metadata": {},
     "output_type": "execute_result"
    }
   ],
   "source": [
    "# fit model\n",
    "encoder_decoder_model.fit(X, y, epochs=10, verbose=1)"
   ]
  },
  {
   "cell_type": "code",
   "execution_count": 288,
   "metadata": {},
   "outputs": [
    {
     "name": "stdout",
     "output_type": "stream",
     "text": [
      "3157/3157 [==============================] - 26s 8ms/step\n"
     ]
    },
    {
     "data": {
      "text/plain": [
       "0.1107045543661219"
      ]
     },
     "execution_count": 288,
     "metadata": {},
     "output_type": "execute_result"
    }
   ],
   "source": [
    "encoder_decoder_model.evaluate(X, y, batch_size=1, verbose=1)"
   ]
  },
  {
   "cell_type": "markdown",
   "metadata": {},
   "source": [
    "## 3. Compute anomaly scores"
   ]
  },
  {
   "cell_type": "code",
   "execution_count": 276,
   "metadata": {},
   "outputs": [
    {
     "name": "stdout",
     "output_type": "stream",
     "text": [
      "(3157, 12)\n"
     ]
    }
   ],
   "source": [
    "# define input sequence\n",
    "# raw_seq = series1['2019-01-14':'2019-01-23'].to_list()\n",
    "# raw_seq = sequences.to_list()\n",
    "# choose a number of time steps\n",
    "n_steps_in, n_steps_out = 12, 12*24\n",
    "# split into samples\n",
    "# X, y = split_sequence(raw_seq, n_steps_in, n_steps_out)\n",
    "X, y = split_sequence(raw_seq, n_steps_in)\n",
    "print(y.shape)\n",
    "# reshape from [samples, timesteps] into [samples, timesteps, features]\n",
    "n_features = 1\n",
    "X = X.reshape((X.shape[0], X.shape[1], n_features))\n",
    "y = y.reshape((y.shape[0], y.shape[1], n_features))"
   ]
  },
  {
   "cell_type": "code",
   "execution_count": 199,
   "metadata": {},
   "outputs": [],
   "source": [
    "yhat = encoder_decoder_model.predict(X[1851].reshape(1,n_steps_in,n_features))"
   ]
  },
  {
   "cell_type": "code",
   "execution_count": 211,
   "metadata": {},
   "outputs": [
    {
     "data": {
      "text/plain": [
       "array([[32.9800005 ],\n",
       "       [33.0019989 ],\n",
       "       [33.61800003],\n",
       "       [36.80199966],\n",
       "       [37.78399887],\n",
       "       [38.56799927],\n",
       "       [38.79999924],\n",
       "       [38.48199997],\n",
       "       [37.77000122],\n",
       "       [37.69399948],\n",
       "       [36.82999954],\n",
       "       [36.63000107]])"
      ]
     },
     "execution_count": 211,
     "metadata": {},
     "output_type": "execute_result"
    }
   ],
   "source": [
    "X[1851]"
   ]
  },
  {
   "cell_type": "code",
   "execution_count": 201,
   "metadata": {},
   "outputs": [
    {
     "data": {
      "text/plain": [
       "array([[32.9800005 ],\n",
       "       [33.0019989 ],\n",
       "       [33.61800003],\n",
       "       [36.80199966],\n",
       "       [37.78399887],\n",
       "       [38.56799927],\n",
       "       [38.79999924],\n",
       "       [38.48199997],\n",
       "       [37.77000122],\n",
       "       [37.69399948],\n",
       "       [36.82999954],\n",
       "       [36.63000107]])"
      ]
     },
     "execution_count": 201,
     "metadata": {},
     "output_type": "execute_result"
    }
   ],
   "source": [
    "y[1851]"
   ]
  },
  {
   "cell_type": "code",
   "execution_count": 261,
   "metadata": {},
   "outputs": [],
   "source": [
    "yhat = encoder_decoder_model.predict(X[0].reshape(1,n_steps_in,n_features))"
   ]
  },
  {
   "cell_type": "code",
   "execution_count": 263,
   "metadata": {},
   "outputs": [
    {
     "data": {
      "text/plain": [
       "array([[32.33000183],\n",
       "       [32.34600067],\n",
       "       [32.36999893],\n",
       "       [32.3859993 ],\n",
       "       [32.40999985],\n",
       "       [32.40999985],\n",
       "       [32.40999985],\n",
       "       [32.42999954],\n",
       "       [32.45999908],\n",
       "       [32.47599945],\n",
       "       [32.5       ],\n",
       "       [32.5       ]])"
      ]
     },
     "execution_count": 263,
     "metadata": {},
     "output_type": "execute_result"
    }
   ],
   "source": [
    "y[0]"
   ]
  },
  {
   "cell_type": "code",
   "execution_count": 265,
   "metadata": {},
   "outputs": [
    {
     "data": {
      "text/plain": [
       "0.1917382302164265"
      ]
     },
     "execution_count": 265,
     "metadata": {},
     "output_type": "execute_result"
    }
   ],
   "source": [
    "np.sum(np.square(yhat-y[0]))"
   ]
  },
  {
   "cell_type": "code",
   "execution_count": 283,
   "metadata": {},
   "outputs": [
    {
     "data": {
      "text/plain": [
       "[0.049546354432242534,\n",
       " 0.04842271431349456,\n",
       " 0.044228753946952845,\n",
       " 0.046566903787898836,\n",
       " 0.04201956711709292,\n",
       " 0.04277300711546498,\n",
       " 0.04586127161746782,\n",
       " 0.045268373040016005,\n",
       " 0.03944658118940314,\n",
       " 0.04007985114818223,\n",
       " 0.03485778772970714,\n",
       " 0.035679315646993406,\n",
       " 0.039200172759009444,\n",
       " 0.038174584198858226,\n",
       " 0.03262296927569007,\n",
       " 0.03634755168750698,\n",
       " 0.03622829227533378,\n",
       " 0.030457663940032995,\n",
       " 0.031418552423129166,\n",
       " 0.03198917313886477,\n",
       " 0.035317582114951396,\n",
       " 0.03428323871223398,\n",
       " 0.02793234427226998,\n",
       " 0.031846513468194185,\n",
       " 0.033739023972883815,\n",
       " 0.030378722090973087,\n",
       " 0.031230320685426912,\n",
       " 0.031299177934997646,\n",
       " 0.03385801323398423,\n",
       " 0.03540517551824421,\n",
       " 0.02978751288901385,\n",
       " 0.029257560191908484,\n",
       " 0.032335969744016486,\n",
       " 0.03300018405367139,\n",
       " 0.027641349695041287,\n",
       " 0.02822485367825755,\n",
       " 0.028025477363262646,\n",
       " 0.030423895372659257,\n",
       " 0.03179143372806518,\n",
       " 0.026470016020464324,\n",
       " 0.0261701231083106,\n",
       " 0.028051197309978432,\n",
       " 0.029454234308793542,\n",
       " 0.02692323643132105,\n",
       " 0.027968970165238857,\n",
       " 0.02771062109095544,\n",
       " 0.029715107922094145,\n",
       " 0.030672188684692424,\n",
       " 0.027745707985013617,\n",
       " 0.028774596517906342,\n",
       " 0.029412379174027684,\n",
       " 0.0328691305621788,\n",
       " 0.03311401472601321,\n",
       " 0.02752287154376981,\n",
       " 0.027760783474659694,\n",
       " 0.026927090924582633,\n",
       " 0.028621007353650457,\n",
       " 0.02740911232016479,\n",
       " 0.021188504678431537,\n",
       " 0.023038982045840407,\n",
       " 0.02363889225118287,\n",
       " 0.019329796171515794,\n",
       " 0.020475690615713634,\n",
       " 0.023177809258340624,\n",
       " 0.02370708394329859,\n",
       " 0.024414476887902787,\n",
       " 0.027317671930648088,\n",
       " 0.02421201436547202,\n",
       " 0.020178917153386076,\n",
       " 0.027210151631149895,\n",
       " 0.020676500137195006,\n",
       " 0.020685308193204924,\n",
       " 0.022709752965019044,\n",
       " 0.022949334073346407,\n",
       " 0.018900504873020342,\n",
       " 0.021009522459937882,\n",
       " 0.02245772440103095,\n",
       " 0.02253481432446451,\n",
       " 0.02180330346920641,\n",
       " 0.023968465113432407,\n",
       " 0.02672896651725697,\n",
       " 0.02376593648805247,\n",
       " 0.023997227955259822,\n",
       " 0.023186999544849804,\n",
       " 0.02478442529682144,\n",
       " 0.02515236464096004,\n",
       " 0.020604092619614572,\n",
       " 0.02030702357878901,\n",
       " 0.02024456906947288,\n",
       " 0.022832594861393118,\n",
       " 0.023621901078148946,\n",
       " 0.0184409420349402,\n",
       " 0.01832311200792897,\n",
       " 0.019276843477855427,\n",
       " 0.02092820432328199,\n",
       " 0.020890302177868615,\n",
       " 0.020277929709410177,\n",
       " 0.022190525087645272,\n",
       " 0.0227663743909217,\n",
       " 0.019677061808178957,\n",
       " 0.021249800058429833,\n",
       " 0.021041844685676495,\n",
       " 0.020426132529389456,\n",
       " 0.02237260539200828,\n",
       " 0.023127113398511815,\n",
       " 0.019651964496003736,\n",
       " 0.020331816611577104,\n",
       " 1.041071478509258,\n",
       " 3.7478858913453976,\n",
       " 13.775258645909114,\n",
       " 18.88565339700574,\n",
       " 22.483149805256037,\n",
       " 28.04068023888185,\n",
       " 33.564229435122314,\n",
       " 38.944362485656356,\n",
       " 41.94496017925054,\n",
       " 43.135656669262865,\n",
       " 38.88250828782233,\n",
       " 28.208247841211495,\n",
       " 11.656543067256584,\n",
       " 8.207533612176785,\n",
       " 6.138872973974802,\n",
       " 4.709778893392662,\n",
       " 3.9048315688182056,\n",
       " 3.612989504827437,\n",
       " 3.398928993063754,\n",
       " 2.0133561266871474,\n",
       " 1.4319398867152604,\n",
       " 0.7513883110438465,\n",
       " 0.6041917256551054,\n",
       " 0.5470020399580181,\n",
       " 0.5547143304347963,\n",
       " 0.3926409928628694,\n",
       " 0.4452198040502797,\n",
       " 1.1067717476288204,\n",
       " 2.0359373560274237,\n",
       " 2.508241092744865,\n",
       " 3.3253768943139734,\n",
       " 3.8750402374204738,\n",
       " 3.4567826867883547,\n",
       " 2.1706631269009127,\n",
       " 1.2986947831453286,\n",
       " 0.9580392954807074,\n",
       " 0.8884039077121968,\n",
       " 0.7816284699115275,\n",
       " 0.5711763435840789,\n",
       " 0.6973666999372643,\n",
       " 0.7466438360541354,\n",
       " 0.7072761905001256,\n",
       " 0.7261577161750744,\n",
       " 0.7175155134143965,\n",
       " 0.4724877868196874,\n",
       " 0.485452166215977,\n",
       " 0.501413034111601,\n",
       " 0.684714044682907,\n",
       " 0.8876680043665653,\n",
       " 0.5996162210020662,\n",
       " 0.5274330080754542,\n",
       " 0.5750841985578848,\n",
       " 0.43876222995807945,\n",
       " 0.582653391769271,\n",
       " 0.4857514489657467,\n",
       " 0.4060765644477232,\n",
       " 0.593333984107017,\n",
       " 0.19088189820060847,\n",
       " 0.22567336369364263,\n",
       " 0.23819403179223383,\n",
       " 0.25621539252461856,\n",
       " 0.2671517740684866,\n",
       " 0.34040579212073485,\n",
       " 0.33780471926322675,\n",
       " 0.3155845263280258,\n",
       " 0.40191975991823775,\n",
       " 0.351440024293847,\n",
       " 0.4052127390279239,\n",
       " 0.43291189997631907,\n",
       " 0.34505547646200346,\n",
       " 0.2557968929229518,\n",
       " 0.22309458992967515,\n",
       " 0.15536224440263677,\n",
       " 0.21189249792077736,\n",
       " 0.15454181676322715,\n",
       " 0.11916957320237674,\n",
       " 0.10068891929695112,\n",
       " 0.06114905253343584,\n",
       " 0.07303569113427893,\n",
       " 0.11664701041008634,\n",
       " 0.24391759298800092,\n",
       " 0.2482577630510796,\n",
       " 0.24628257996228525,\n",
       " 0.2274389101547459,\n",
       " 0.32546990732953707,\n",
       " 0.1956296887085814,\n",
       " 0.19802673065511298,\n",
       " 0.1989532076666408,\n",
       " 0.20429222624225424,\n",
       " 0.22916141480266378,\n",
       " 0.22919242001313905,\n",
       " 0.2588165564806033,\n",
       " 0.11334005229597256]"
      ]
     },
     "execution_count": 283,
     "metadata": {},
     "output_type": "execute_result"
    }
   ],
   "source": [
    "scores[:200]"
   ]
  },
  {
   "cell_type": "code",
   "execution_count": 289,
   "metadata": {},
   "outputs": [],
   "source": [
    "def anomaly_scores(model, X, y):\n",
    "    anomaly_scores = list()\n",
    "    for i in range(len(X)):\n",
    "        yhat = model.predict(X[i].reshape(1,n_steps_in,n_features))\n",
    "#         print(yhat)\n",
    "        score = np.sum(np.square(yhat-y[i]))\n",
    "        \n",
    "        anomaly_scores.append(score)\n",
    "        \n",
    "    return anomaly_scores\n",
    "\n",
    "scores = anomaly_scores(encoder_decoder_model, X, y)"
   ]
  },
  {
   "cell_type": "code",
   "execution_count": 290,
   "metadata": {},
   "outputs": [
    {
     "data": {
      "text/plain": [
       "1.328454608225674"
      ]
     },
     "execution_count": 290,
     "metadata": {},
     "output_type": "execute_result"
    }
   ],
   "source": [
    "np.mean(np.array(scores))"
   ]
  },
  {
   "cell_type": "code",
   "execution_count": 291,
   "metadata": {},
   "outputs": [
    {
     "name": "stdout",
     "output_type": "stream",
     "text": [
      "3168\n"
     ]
    }
   ],
   "source": [
    "# padding_scores = [0.0 for i in range(n_steps_in)] + scores + [0.0 for i in range(n_steps_out-1)]\n",
    "padding_scores = [0.0 for i in range(n_steps_in-1)] + scores\n",
    "print(len(padding_scores))\n",
    "result = pd.DataFrame({'value': raw_seq, 'score': padding_scores})"
   ]
  },
  {
   "cell_type": "code",
   "execution_count": 292,
   "metadata": {},
   "outputs": [
    {
     "data": {
      "text/plain": [
       "array([<matplotlib.axes._subplots.AxesSubplot object at 0x16a68e9e8>,\n",
       "       <matplotlib.axes._subplots.AxesSubplot object at 0x1620d9e48>],\n",
       "      dtype=object)"
      ]
     },
     "execution_count": 292,
     "metadata": {},
     "output_type": "execute_result"
    },
    {
     "data": {
      "image/png": "[encoded data removed]",
      "text/plain": [
       "<matplotlib.figure.Figure at 0x16a669b70>"
      ]
     },
     "metadata": {},
     "output_type": "display_data"
    }
   ],
   "source": [
    "result.plot(figsize=[20,6], subplots=True)"
   ]
  },
  {
   "cell_type": "code",
   "execution_count": null,
   "metadata": {},
   "outputs": [],
   "source": []
  },
  {
   "cell_type": "code",
   "execution_count": null,
   "metadata": {},
   "outputs": [],
   "source": []
  }
 ],
 "metadata": {
  "kernelspec": {
   "display_name": "Python 3",
   "language": "python",
   "name": "python3"
  },
  "language_info": {
   "codemirror_mode": {
    "name": "ipython",
    "version": 3
   },
   "file_extension": ".py",
   "mimetype": "text/x-python",
   "name": "python",
   "nbconvert_exporter": "python",
   "pygments_lexer": "ipython3",
   "version": "3.6.2"
  }
 },
 "nbformat": 4,
 "nbformat_minor": 2
}
