{
 "cells": [
  {
   "cell_type": "code",
   "execution_count": 8,
   "metadata": {},
   "outputs": [],
   "source": [
    "import numpy as np\n",
    "import pandas as pd\n",
    "from numpy import array\n",
    "from keras.models import Sequential\n",
    "from keras.layers import LSTM\n",
    "from keras.layers import Dense\n",
    "from keras.layers import Flatten\n",
    "from keras.layers import TimeDistributed\n",
    "from keras.layers.convolutional import Conv1D\n",
    "from keras.layers.convolutional import MaxPooling1D\n",
    "\n",
    "%matplotlib inline"
   ]
  },
  {
   "cell_type": "markdown",
   "metadata": {},
   "source": [
    "## 1. Data prepartion"
   ]
  },
  {
   "cell_type": "code",
   "execution_count": 4,
   "metadata": {},
   "outputs": [],
   "source": [
    "data = pd.read_excel('../data/Testcase_dataset-IBPEM.xlsx')\n",
    "# Create timestamp from two columns\n",
    "data['timestamp'] = pd.to_datetime({\n",
    "    'year': data['Date'].str.split('-').str.get(0), \n",
    "    'month': data['Date'].str.split('-').str.get(1), \n",
    "    'day': data['Date'].str.split('-').str.get(2), \n",
    "    'hour':data['Time'].str.slice(0, 2), \n",
    "    'minute': data['Time'].str.slice(2,4)})\n",
    "\n",
    "data = data.drop(columns=['Date', 'Time'])\n",
    "data = data.set_index('timestamp')\n",
    "\n",
    "# Let's take only the CWRT_syth first\n",
    "series1 = data['CWRT_syth'].dropna()"
   ]
  },
  {
   "cell_type": "code",
   "execution_count": 5,
   "metadata": {},
   "outputs": [],
   "source": [
    "# split a univariate sequence into samples\n",
    "def split_sequence(sequence, n_steps):\n",
    "    X, y = list(), list()\n",
    "    for i in range(len(sequence)):\n",
    "        # find the end of this pattern\n",
    "        end_ix = i + n_steps\n",
    "        # check if we are beyond the sequence\n",
    "        if end_ix > len(sequence)-1:\n",
    "            break\n",
    "        # gather input and output parts of the pattern\n",
    "        seq_x, seq_y = sequence[i:end_ix], sequence[end_ix]\n",
    "        X.append(seq_x)\n",
    "        y.append(seq_y)\n",
    "    return array(X), array(y)"
   ]
  },
  {
   "cell_type": "code",
   "execution_count": 6,
   "metadata": {},
   "outputs": [],
   "source": [
    "# define input sequence\n",
    "raw_seq = series1.to_list()\n",
    "# choose a number of time steps\n",
    "n_steps = 36\n",
    "# split into samples\n",
    "X, y = split_sequence(raw_seq, n_steps)\n",
    "# reshape from [samples, timesteps] into [samples, timesteps, features]\n",
    "# reshape from [samples, timesteps] into [samples, subsequences, timesteps, features]\n",
    "n_features = 1\n",
    "n_seq = 6\n",
    "n_sub_steps = 6\n",
    "X = X.reshape((X.shape[0], n_seq, n_sub_steps, n_features))"
   ]
  },
  {
   "cell_type": "markdown",
   "metadata": {},
   "source": [
    "## 2. CNN-LSTM Model"
   ]
  },
  {
   "cell_type": "code",
   "execution_count": 9,
   "metadata": {},
   "outputs": [
    {
     "name": "stdout",
     "output_type": "stream",
     "text": [
      "WARNING:tensorflow:From /Users/yiqun/anaconda3/lib/python3.7/site-packages/tensorflow/python/framework/op_def_library.py:263: colocate_with (from tensorflow.python.framework.ops) is deprecated and will be removed in a future version.\n",
      "Instructions for updating:\n",
      "Colocations handled automatically by placer.\n"
     ]
    }
   ],
   "source": [
    "# define model\n",
    "model = Sequential()\n",
    "model.add(TimeDistributed(Conv1D(filters=64, kernel_size=1, activation='relu'), input_shape=(None, n_sub_steps, n_features)))\n",
    "model.add(TimeDistributed(MaxPooling1D(pool_size=2)))\n",
    "model.add(TimeDistributed(Flatten()))\n",
    "model.add(LSTM(20, activation='relu'))\n",
    "model.add(Dense(1))\n",
    "model.compile(optimizer='adam', loss='mse')"
   ]
  },
  {
   "cell_type": "code",
   "execution_count": 10,
   "metadata": {},
   "outputs": [
    {
     "name": "stdout",
     "output_type": "stream",
     "text": [
      "WARNING:tensorflow:From /Users/yiqun/anaconda3/lib/python3.7/site-packages/tensorflow/python/ops/math_ops.py:3066: to_int32 (from tensorflow.python.ops.math_ops) is deprecated and will be removed in a future version.\n",
      "Instructions for updating:\n",
      "Use tf.cast instead.\n",
      "Epoch 1/20\n",
      "17579/17579 [==============================] - 8s 437us/step - loss: 1.6376\n",
      "Epoch 2/20\n",
      "17579/17579 [==============================] - 7s 374us/step - loss: 0.9341\n",
      "Epoch 3/20\n",
      "17579/17579 [==============================] - 7s 426us/step - loss: 1.0210\n",
      "Epoch 4/20\n",
      "17579/17579 [==============================] - 9s 501us/step - loss: 0.7860\n",
      "Epoch 5/20\n",
      "17579/17579 [==============================] - 9s 524us/step - loss: 0.7980\n",
      "Epoch 6/20\n",
      "17579/17579 [==============================] - 10s 594us/step - loss: 0.8495\n",
      "Epoch 7/20\n",
      "17579/17579 [==============================] - 8s 460us/step - loss: 0.7693\n",
      "Epoch 8/20\n",
      "17579/17579 [==============================] - 8s 473us/step - loss: 0.7599\n",
      "Epoch 9/20\n",
      "17579/17579 [==============================] - 8s 433us/step - loss: 0.7849\n",
      "Epoch 10/20\n",
      "17579/17579 [==============================] - 8s 482us/step - loss: 0.8070\n",
      "Epoch 11/20\n",
      "17579/17579 [==============================] - 8s 470us/step - loss: 0.7539\n",
      "Epoch 12/20\n",
      "17579/17579 [==============================] - 8s 477us/step - loss: 0.7368\n",
      "Epoch 13/20\n",
      "17579/17579 [==============================] - 8s 438us/step - loss: 0.8064\n",
      "Epoch 14/20\n",
      "17579/17579 [==============================] - 8s 480us/step - loss: 0.7468\n",
      "Epoch 15/20\n",
      "17579/17579 [==============================] - 8s 470us/step - loss: 0.7286\n",
      "Epoch 16/20\n",
      "17579/17579 [==============================] - 8s 480us/step - loss: 0.7202\n",
      "Epoch 17/20\n",
      "17579/17579 [==============================] - 9s 504us/step - loss: 0.7639\n",
      "Epoch 18/20\n",
      "17579/17579 [==============================] - 9s 488us/step - loss: 0.7053\n",
      "Epoch 19/20\n",
      "17579/17579 [==============================] - 11s 641us/step - loss: 0.7114\n",
      "Epoch 20/20\n",
      "17579/17579 [==============================] - 10s 583us/step - loss: 0.8047\n"
     ]
    },
    {
     "data": {
      "text/plain": [
       "<keras.callbacks.History at 0xb26b76630>"
      ]
     },
     "execution_count": 10,
     "metadata": {},
     "output_type": "execute_result"
    }
   ],
   "source": [
    "# fit model\n",
    "model.fit(X, y, epochs=20, verbose=1)"
   ]
  },
  {
   "cell_type": "markdown",
   "metadata": {},
   "source": [
    "## 3. Compute anomaly scores"
   ]
  },
  {
   "cell_type": "code",
   "execution_count": 13,
   "metadata": {},
   "outputs": [],
   "source": [
    "def anomaly_scores(model, X, y):\n",
    "    anomaly_scores = list()\n",
    "    for i in range(len(X)):\n",
    "        yhat = model.predict(X[i].reshape(1, n_seq, n_steps, n_features))\n",
    "        score = abs(yhat[0][0]-y[i])\n",
    "        \n",
    "        anomaly_scores.append(score)\n",
    "        \n",
    "    return anomaly_scores\n",
    "\n",
    "scores = anomaly_scores(model, X, y)"
   ]
  },
  {
   "cell_type": "code",
   "execution_count": 20,
   "metadata": {},
   "outputs": [],
   "source": [
    "padding_scores = [0.0 for i in range(n_steps)] + scores\n",
    "result = pd.DataFrame({'value': raw_seq, 'score': padding_scores})"
   ]
  },
  {
   "cell_type": "code",
   "execution_count": 21,
   "metadata": {},
   "outputs": [
    {
     "data": {
      "text/plain": [
       "array([<matplotlib.axes._subplots.AxesSubplot object at 0xb26b76828>,\n",
       "       <matplotlib.axes._subplots.AxesSubplot object at 0xb281a5c50>],\n",
       "      dtype=object)"
      ]
     },
     "execution_count": 21,
     "metadata": {},
     "output_type": "execute_result"
    },
    {
     "data": {
      "image/png": "[encoded data removed]",
      "text/plain": [
       "<Figure size 1440x432 with 2 Axes>"
      ]
     },
     "metadata": {
      "needs_background": "light"
     },
     "output_type": "display_data"
    }
   ],
   "source": [
    "result.plot(figsize=[20,6], subplots=True)"
   ]
  },
  {
   "cell_type": "code",
   "execution_count": null,
   "metadata": {},
   "outputs": [],
   "source": []
  }
 ],
 "metadata": {
  "kernelspec": {
   "display_name": "Python 3",
   "language": "python",
   "name": "python3"
  },
  "language_info": {
   "codemirror_mode": {
    "name": "ipython",
    "version": 3
   },
   "file_extension": ".py",
   "mimetype": "text/x-python",
   "name": "python",
   "nbconvert_exporter": "python",
   "pygments_lexer": "ipython3",
   "version": "3.7.0"
  }
 },
 "nbformat": 4,
 "nbformat_minor": 2
}
